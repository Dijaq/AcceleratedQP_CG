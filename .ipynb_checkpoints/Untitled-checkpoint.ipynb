{
 "cells": [
  {
   "cell_type": "code",
   "execution_count": 1,
   "metadata": {},
   "outputs": [],
   "source": [
    "import numpy as np\n",
    "import pandas as pd"
   ]
  },
  {
   "cell_type": "code",
   "execution_count": 5,
   "metadata": {},
   "outputs": [],
   "source": [
    "c_x = pd.read_csv('ValidarDatos/c_x0.csv')"
   ]
  },
  {
   "cell_type": "code",
   "execution_count": 16,
   "metadata": {},
   "outputs": [],
   "source": [
    "x = pd.read_csv('ValidarDatosM/x0.csv')"
   ]
  },
  {
   "cell_type": "code",
   "execution_count": 31,
   "metadata": {},
   "outputs": [],
   "source": [
    "c_x0 = c_x.iloc[:,0]\n",
    "x0 = x.iloc[:,0]"
   ]
  },
  {
   "cell_type": "code",
   "execution_count": 18,
   "metadata": {},
   "outputs": [],
   "source": [
    "cx_x = [c_x.iloc[:,0], x.iloc[:,0]]"
   ]
  },
  {
   "cell_type": "code",
   "execution_count": 34,
   "metadata": {},
   "outputs": [
    {
     "data": {
      "text/plain": [
       "[0       0.0010\n",
       " 1      -0.0030\n",
       " 2       0.0050\n",
       " 3       0.0010\n",
       " 4       0.0010\n",
       " 5      -0.0050\n",
       " 6      -0.0050\n",
       " 7       0.0000\n",
       " 8       0.0010\n",
       " 9      -0.0010\n",
       " 10     -0.0020\n",
       " 11     -0.0040\n",
       " 12     -0.0030\n",
       " 13      0.0000\n",
       " 14     -0.0050\n",
       " 15     -0.0020\n",
       " 16     -0.0010\n",
       " 17      0.0020\n",
       " 18     -0.0020\n",
       " 19     -0.0040\n",
       " 20     -0.0030\n",
       " 21     -0.0030\n",
       " 22      0.0010\n",
       " 23      0.0050\n",
       " 24      0.0050\n",
       " 25      0.0040\n",
       " 26     -0.0020\n",
       " 27      0.0020\n",
       " 28     -0.0010\n",
       " 29     -0.0050\n",
       "          ...  \n",
       " 1577    0.0030\n",
       " 1578   -0.0040\n",
       " 1579   -0.0040\n",
       " 1580   -0.0030\n",
       " 1581    0.0040\n",
       " 1582    0.0000\n",
       " 1583   -0.0020\n",
       " 1584   -0.0040\n",
       " 1585    0.0010\n",
       " 1586    0.0030\n",
       " 1587   -0.0010\n",
       " 1588    0.0020\n",
       " 1589    0.0010\n",
       " 1590    0.0030\n",
       " 1591   -0.0010\n",
       " 1592   -0.0010\n",
       " 1593    0.0040\n",
       " 1594    0.0030\n",
       " 1595   -0.0050\n",
       " 1596   -0.0030\n",
       " 1597    0.0030\n",
       " 1598    0.0040\n",
       " 1599    0.0002\n",
       " 1600    0.0010\n",
       " 1601   -0.0050\n",
       " 1602   -0.0040\n",
       " 1603    0.0003\n",
       " 1604   -0.0010\n",
       " 1605    0.0000\n",
       " 1606   -0.0002\n",
       " Length: 1607, dtype: float64]"
      ]
     },
     "execution_count": 34,
     "metadata": {},
     "output_type": "execute_result"
    }
   ],
   "source": [
    "c_x0-x0"
   ]
  }
 ],
 "metadata": {
  "kernelspec": {
   "display_name": "Python 3",
   "language": "python",
   "name": "python3"
  },
  "language_info": {
   "codemirror_mode": {
    "name": "ipython",
    "version": 3
   },
   "file_extension": ".py",
   "mimetype": "text/x-python",
   "name": "python",
   "nbconvert_exporter": "python",
   "pygments_lexer": "ipython3",
   "version": "3.5.2"
  }
 },
 "nbformat": 4,
 "nbformat_minor": 2
}
